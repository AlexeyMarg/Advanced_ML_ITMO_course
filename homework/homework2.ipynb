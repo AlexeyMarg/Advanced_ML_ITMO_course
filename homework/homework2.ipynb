{
 "cells": [
  {
   "cell_type": "markdown",
   "metadata": {},
   "source": [
    "# Домашнее задание 2"
   ]
  },
  {
   "cell_type": "code",
   "execution_count": 79,
   "metadata": {},
   "outputs": [],
   "source": [
    "import pandas as pd\n",
    "import numpy as np\n",
    "import glob\n",
    "import matplotlib.pyplot as plt\n",
    "from sklearn.preprocessing import StandardScaler\n",
    "from sklearn.model_selection import train_test_split, KFold, cross_validate\n",
    "from sklearn.ensemble import RandomForestClassifier\n",
    "from sklearn.metrics import f1_score, classification_report, confusion_matrix\n",
    "\n",
    "import optuna\n",
    "\n",
    "import warnings\n",
    "warnings.filterwarnings('ignore')"
   ]
  },
  {
   "cell_type": "markdown",
   "metadata": {},
   "source": [
    "## Загрузка данных и генерация датасета"
   ]
  },
  {
   "cell_type": "code",
   "execution_count": 80,
   "metadata": {},
   "outputs": [],
   "source": [
    "measurement_step = 100\n",
    "series_len = 10\n",
    "files = glob.glob('datasets/*.csv')\n",
    "\n",
    "\n",
    "def get_dataset(measurement_step, series_len):\n",
    "    files = glob.glob('dataset/*/*.csv')\n",
    "\n",
    "    measurement_step = 10\n",
    "\n",
    "    data = []\n",
    "    for file in files:\n",
    "        if(file != 'data_model.csv'):\n",
    "            temp = pd.read_csv(file, usecols = ['u1', 'u2', 'y1', 'y2', 'y_nominal1', 'y_nominal2',\n",
    "                                                'fault_u1', 'fault_u2', 'fault_y1', 'fault_y2', 'comp_fault'])\n",
    "            indexes = range(0, temp.shape[0], measurement_step)\n",
    "            temp = temp.iloc[indexes][:]\n",
    "            #temp.reset_index(inplace=True)\n",
    "            data.append(temp)      \n",
    "\n",
    "    #Уберем строки, не относящиеся к отказу ИНС и заменим ненулевые значения отказов на 1.\n",
    "    drop_cols = ['fault_u1', 'fault_u1', 'fault_u2', 'comp_fault']\n",
    "    for experiment in data:\n",
    "        experiment.drop(drop_cols, inplace=True, axis=1)\n",
    "        experiment['fault_y1'].replace([1., 2., 3,], 1, inplace=True)\n",
    "        experiment['fault_y2'].replace([1., 2., 3,], 1, inplace=True)\n",
    "        \n",
    "    #Заменим абсолютные значения выходов на отклонения\n",
    "    for experiment in data:\n",
    "        experiment['dev_y1'] = experiment['y_nominal1'] - experiment['y1']\n",
    "        experiment['dev_y2'] = experiment['y_nominal2'] - experiment['y2']\n",
    "        experiment.drop(['y1', 'y2', 'y_nominal1', 'y_nominal2'], inplace=True, axis=1)\n",
    "        \n",
    "    #Добавим первую и вторую производные\n",
    "    for df1 in data:\n",
    "        df1['V_dev_y1'] = df1['dev_y1'].shift(1) - df1['dev_y1']\n",
    "        df1['V_dev_y2'] = df1['dev_y2'].shift(1) - df1['dev_y2']\n",
    "        df1.dropna(axis=0, inplace=True)\n",
    "        df1['A_dev_y1'] = df1['V_dev_y1'].shift(1) - df1['V_dev_y1']\n",
    "        df1['A_dev_y2'] = df1['V_dev_y2'].shift(1) - df1['V_dev_y2']\n",
    "        df1.dropna(axis=0, inplace=True)\n",
    "        \n",
    "    # Добавим скользящие средние на series_len и series_len/2\n",
    "    cols = [col for col in data[0].columns if ('y1' in col or\n",
    "                                        'y2' in col or\n",
    "                                        'u1' in col) and 'fault' not in col]\n",
    "    for df1 in data:\n",
    "        for col in cols:\n",
    "            df1['roll_5_' + col] = df1[col].rolling(series_len // 2).mean()\n",
    "            df1['roll_10_' + col] = df1[col].rolling(series_len).mean()\n",
    "        df1.dropna(axis=0, inplace=True)\n",
    "        df1.reset_index(drop=True, inplace=True)\n",
    "        \n",
    "    #Сформируем датасет в виде временных последовательностей по series_len значений\n",
    "    lag = series_len - 1\n",
    "    new_cols = []\n",
    "    for col in data[0].drop(['fault_y1', 'fault_y2'], axis=1).columns:\n",
    "        new_cols += [col + '_' + str(i) for i in range(series_len)]\n",
    "    new_cols += ['fault_y1', 'fault_y2']\n",
    "\n",
    "    df = pd.DataFrame(data=None, columns=new_cols)\n",
    "    cols = data[0].drop(['fault_y1', 'fault_y2'], axis=1).columns\n",
    "\n",
    "    for k, experiment in enumerate(data):\n",
    "        for i in range(lag, experiment.shape[0]):\n",
    "            sample = []\n",
    "            for col in cols:\n",
    "                temp = list(experiment.loc[(i-lag):i][col])\n",
    "                sample += temp\n",
    "                \n",
    "            sample_fault_y1 = list(experiment.loc[(i-lag):i]['fault_y1'])\n",
    "            if sum(sample_fault_y1) == series_len:\n",
    "                fault_y1_data = 1\n",
    "            else:\n",
    "                fault_y1_data = 0\n",
    "                \n",
    "            sample_fault_y2 = list(experiment.loc[(i-lag):i]['fault_y2'])\n",
    "            if sum(sample_fault_y2) == series_len:\n",
    "                fault_y2_data = 1\n",
    "            else:\n",
    "                fault_y2_data = 0\n",
    "                \n",
    "            sample += [fault_y1_data, fault_y2_data]\n",
    "            df.loc[len(df)] = sample\n",
    "            \n",
    "    df['fault_LE'] = 0\n",
    "    df['fault_LE'].loc[ (df['fault_y1'] == 0) & (df['fault_y1'] == 0)] = 0\n",
    "    df['fault_LE'].loc[df['fault_y1'] == 1] = 1\n",
    "    df['fault_LE'].loc[df['fault_y2'] == 1] = 2\n",
    "\n",
    "    scaler = StandardScaler()\n",
    "    X_array = scaler.fit_transform(df.drop(['fault_y1', 'fault_y2', 'fault_LE'], axis=1))\n",
    "    y_le = np.array(df['fault_LE'])\n",
    "\n",
    "    X_series = X_array.reshape((X_array.shape[0], series_len, int(X_array.shape[1] / series_len)))\n",
    "    y_ohe = np.array(df[['fault_y1', 'fault_y2']])\n",
    "\n",
    "    return df, X_array, y_le, X_series, y_ohe "
   ]
  },
  {
   "cell_type": "code",
   "execution_count": 81,
   "metadata": {},
   "outputs": [],
   "source": [
    "df, X_array, y_le, X_series, y_ohe = get_dataset(measurement_step, series_len)\n",
    "\n",
    "X_array_train, X_array_test, y_le_train, y_le_test = train_test_split(X_array, y_le, stratify=y_le, test_size=0.25, random_state=0)"
   ]
  },
  {
   "cell_type": "code",
   "execution_count": 82,
   "metadata": {},
   "outputs": [
    {
     "data": {
      "text/plain": [
       "((25200, 220), (25200,))"
      ]
     },
     "execution_count": 82,
     "metadata": {},
     "output_type": "execute_result"
    }
   ],
   "source": [
    "X_array_train.shape, y_le_train.shape"
   ]
  },
  {
   "cell_type": "code",
   "execution_count": 83,
   "metadata": {},
   "outputs": [
    {
     "data": {
      "text/plain": [
       "((25200, 220), (25200, 1))"
      ]
     },
     "execution_count": 83,
     "metadata": {},
     "output_type": "execute_result"
    }
   ],
   "source": [
    "col_names = df.drop(['fault_y1', 'fault_y2', 'fault_LE'], axis=1).columns\n",
    "\n",
    "X_train, X_test = pd.DataFrame(X_array_train, columns=col_names), pd.DataFrame(X_array_test, columns=col_names)\n",
    "y_train, y_test = pd.DataFrame(y_le_train, columns=['fault']), pd.DataFrame(y_le_test, columns=['fault'])\n",
    "X_train.shape, y_train.shape"
   ]
  },
  {
   "cell_type": "markdown",
   "metadata": {},
   "source": [
    "## Построение модели\n",
    "В ходе выоплнения первого задания достаточно высокую точность показал случайный лес при низких вычислительных затратах в сравнении с аналогами по выбранной метрике. Проведем подбор его гиперпараметров с применением optuna"
   ]
  },
  {
   "cell_type": "code",
   "execution_count": 84,
   "metadata": {},
   "outputs": [],
   "source": [
    "def objective(trial, X, y, cv):\n",
    "\n",
    "  params = params = {\n",
    "            'n_estimators': trial.suggest_int('n_estimators', 50, 1000),\n",
    "            'max_depth': trial.suggest_int('max_depth', 3, 50),\n",
    "            'min_samples_split': trial.suggest_int('min_samples_split', 1, 150),\n",
    "            'min_samples_leaf': trial.suggest_int('min_samples_leaf', 1, 60),\n",
    "        }\n",
    "  rf_clf = RandomForestClassifier(**params, random_state=0)\n",
    "  cv_result = cross_validate(rf_clf, X, y, cv = cv, scoring=['precision_macro', 'recall_macro'], n_jobs = -1)\n",
    "  precision = cv_result [\"test_precision_macro\"].mean()\n",
    "  recall = cv_result [\"test_recall_macro\"].mean()\n",
    "  f1 = 2* precision * recall / (precision + recall)\n",
    "  return f1"
   ]
  },
  {
   "cell_type": "code",
   "execution_count": 85,
   "metadata": {},
   "outputs": [
    {
     "name": "stderr",
     "output_type": "stream",
     "text": [
      "[I 2024-02-16 15:14:51,537] A new study created in memory with name: no-name-9c0dfc56-52b1-4c3e-b675-00cded0813a6\n",
      "[I 2024-02-16 15:17:23,589] Trial 0 finished with value: 0.8228944324255624 and parameters: {'n_estimators': 475, 'max_depth': 44, 'min_samples_split': 13, 'min_samples_leaf': 53}. Best is trial 0 with value: 0.8228944324255624.\n",
      "[I 2024-02-16 15:18:33,395] Trial 1 finished with value: 0.8403788382442026 and parameters: {'n_estimators': 161, 'max_depth': 46, 'min_samples_split': 66, 'min_samples_leaf': 15}. Best is trial 1 with value: 0.8403788382442026.\n",
      "[I 2024-02-16 15:22:16,963] Trial 2 finished with value: 0.8337860446712577 and parameters: {'n_estimators': 582, 'max_depth': 33, 'min_samples_split': 51, 'min_samples_leaf': 25}. Best is trial 1 with value: 0.8403788382442026.\n",
      "[I 2024-02-16 15:26:26,737] Trial 3 finished with value: 0.8231336997058835 and parameters: {'n_estimators': 787, 'max_depth': 19, 'min_samples_split': 145, 'min_samples_leaf': 7}. Best is trial 1 with value: 0.8403788382442026.\n",
      "[W 2024-02-16 15:26:29,114] Trial 4 failed with parameters: {'n_estimators': 74, 'max_depth': 47, 'min_samples_split': 1, 'min_samples_leaf': 21} because of the following error: The value nan is not acceptable.\n",
      "[W 2024-02-16 15:26:29,114] Trial 4 failed with value nan.\n",
      "[I 2024-02-16 15:28:58,127] Trial 5 finished with value: 0.8241800405886263 and parameters: {'n_estimators': 455, 'max_depth': 38, 'min_samples_split': 3, 'min_samples_leaf': 47}. Best is trial 1 with value: 0.8403788382442026.\n",
      "[I 2024-02-16 15:33:52,268] Trial 6 finished with value: 0.8568148399301433 and parameters: {'n_estimators': 631, 'max_depth': 33, 'min_samples_split': 11, 'min_samples_leaf': 5}. Best is trial 6 with value: 0.8568148399301433.\n",
      "[I 2024-02-16 15:36:02,236] Trial 7 finished with value: 0.8139391517727503 and parameters: {'n_estimators': 536, 'max_depth': 13, 'min_samples_split': 98, 'min_samples_leaf': 9}. Best is trial 6 with value: 0.8568148399301433.\n",
      "[I 2024-02-16 15:38:10,674] Trial 8 finished with value: 0.8283101035028174 and parameters: {'n_estimators': 328, 'max_depth': 44, 'min_samples_split': 144, 'min_samples_leaf': 24}. Best is trial 6 with value: 0.8568148399301433.\n",
      "[I 2024-02-16 15:38:53,334] Trial 9 finished with value: 0.8116726864041183 and parameters: {'n_estimators': 146, 'max_depth': 17, 'min_samples_split': 36, 'min_samples_leaf': 31}. Best is trial 6 with value: 0.8568148399301433.\n",
      "[I 2024-02-16 15:39:03,502] Trial 10 finished with value: 0.7547803193605442 and parameters: {'n_estimators': 50, 'max_depth': 8, 'min_samples_split': 122, 'min_samples_leaf': 30}. Best is trial 6 with value: 0.8568148399301433.\n",
      "[I 2024-02-16 15:46:11,875] Trial 11 finished with value: 0.8353087877437075 and parameters: {'n_estimators': 999, 'max_depth': 27, 'min_samples_split': 89, 'min_samples_leaf': 2}. Best is trial 6 with value: 0.8568148399301433.\n",
      "[I 2024-02-16 15:51:08,054] Trial 12 finished with value: 0.8415344688628031 and parameters: {'n_estimators': 686, 'max_depth': 50, 'min_samples_split': 55, 'min_samples_leaf': 15}. Best is trial 6 with value: 0.8568148399301433.\n",
      "[I 2024-02-16 15:56:09,395] Trial 13 finished with value: 0.8399068546746229 and parameters: {'n_estimators': 735, 'max_depth': 31, 'min_samples_split': 30, 'min_samples_leaf': 17}. Best is trial 6 with value: 0.8568148399301433.\n",
      "[I 2024-02-16 16:03:02,307] Trial 14 finished with value: 0.8629351138687869 and parameters: {'n_estimators': 717, 'max_depth': 50, 'min_samples_split': 62, 'min_samples_leaf': 1}. Best is trial 14 with value: 0.8629351138687869.\n",
      "[I 2024-02-16 16:10:35,995] Trial 15 finished with value: 0.8602381221244121 and parameters: {'n_estimators': 910, 'max_depth': 37, 'min_samples_split': 26, 'min_samples_leaf': 4}. Best is trial 14 with value: 0.8629351138687869.\n",
      "[I 2024-02-16 16:15:54,386] Trial 16 finished with value: 0.8275672058767746 and parameters: {'n_estimators': 901, 'max_depth': 38, 'min_samples_split': 82, 'min_samples_leaf': 39}. Best is trial 14 with value: 0.8629351138687869.\n",
      "[I 2024-02-16 16:20:17,893] Trial 17 finished with value: 0.8200195583270651 and parameters: {'n_estimators': 841, 'max_depth': 39, 'min_samples_split': 35, 'min_samples_leaf': 60}. Best is trial 14 with value: 0.8629351138687869.\n",
      "[I 2024-02-16 16:29:30,582] Trial 18 finished with value: 0.8557661279490102 and parameters: {'n_estimators': 996, 'max_depth': 49, 'min_samples_split': 108, 'min_samples_leaf': 2}. Best is trial 14 with value: 0.8629351138687869.\n",
      "[I 2024-02-16 16:35:01,888] Trial 19 finished with value: 0.825053545226099 and parameters: {'n_estimators': 886, 'max_depth': 24, 'min_samples_split': 68, 'min_samples_leaf': 11}. Best is trial 14 with value: 0.8629351138687869.\n",
      "[I 2024-02-16 16:37:36,377] Trial 20 finished with value: 0.8369057374634804 and parameters: {'n_estimators': 371, 'max_depth': 40, 'min_samples_split': 50, 'min_samples_leaf': 20}. Best is trial 14 with value: 0.8629351138687869.\n",
      "[I 2024-02-16 16:42:49,155] Trial 21 finished with value: 0.845981230877868 and parameters: {'n_estimators': 740, 'max_depth': 27, 'min_samples_split': 24, 'min_samples_leaf': 1}. Best is trial 14 with value: 0.8629351138687869.\n",
      "[W 2024-02-16 16:42:51,819] Trial 22 failed with parameters: {'n_estimators': 639, 'max_depth': 32, 'min_samples_split': 1, 'min_samples_leaf': 7} because of the following error: The value nan is not acceptable.\n",
      "[W 2024-02-16 16:42:51,819] Trial 22 failed with value nan.\n"
     ]
    }
   ],
   "source": [
    "kf = KFold(n_splits = 5, shuffle = True, random_state = 42)\n",
    "func = lambda trial: objective(trial, X_train, y_train, cv=kf)\n",
    "\n",
    "study = optuna.create_study(direction=\"maximize\")\n",
    "study.optimize(func, n_trials=30)"
   ]
  },
  {
   "cell_type": "markdown",
   "metadata": {},
   "source": [
    "Проведем обучение модели с оптимизированными гиперпараметрами"
   ]
  },
  {
   "cell_type": "code",
   "execution_count": null,
   "metadata": {},
   "outputs": [],
   "source": [
    "best_params = study.best_params\n",
    "best_params"
   ]
  },
  {
   "cell_type": "code",
   "execution_count": null,
   "metadata": {},
   "outputs": [],
   "source": [
    "rf_clf = RandomForestClassifier(**best_params)"
   ]
  },
  {
   "cell_type": "code",
   "execution_count": null,
   "metadata": {},
   "outputs": [
    {
     "data": {
      "text/plain": [
       "RandomForestClassifier(max_depth=36, min_samples_leaf=2, min_samples_split=78,\n",
       "                       n_estimators=510)"
      ]
     },
     "execution_count": 71,
     "metadata": {},
     "output_type": "execute_result"
    }
   ],
   "source": [
    "rf_clf.fit(X_train, y_train)"
   ]
  },
  {
   "cell_type": "code",
   "execution_count": null,
   "metadata": {},
   "outputs": [
    {
     "data": {
      "text/plain": [
       "(25200, 230)"
      ]
     },
     "execution_count": 72,
     "metadata": {},
     "output_type": "execute_result"
    }
   ],
   "source": [
    "X_array_train.shape"
   ]
  },
  {
   "cell_type": "markdown",
   "metadata": {},
   "source": [
    "Оценим качество на отложенной выборке"
   ]
  },
  {
   "cell_type": "code",
   "execution_count": null,
   "metadata": {},
   "outputs": [],
   "source": [
    "predictions = rf_clf.predict(X_array_test)"
   ]
  },
  {
   "cell_type": "code",
   "execution_count": null,
   "metadata": {},
   "outputs": [
    {
     "name": "stdout",
     "output_type": "stream",
     "text": [
      "f1-score: 0.857122555769295\n",
      "              precision    recall  f1-score   support\n",
      "\n",
      "           0       0.90      0.99      0.94      6136\n",
      "           1       0.99      0.73      0.84      1104\n",
      "           2       0.96      0.67      0.79      1160\n",
      "\n",
      "    accuracy                           0.91      8400\n",
      "   macro avg       0.95      0.80      0.86      8400\n",
      "weighted avg       0.92      0.91      0.91      8400\n",
      "\n"
     ]
    }
   ],
   "source": [
    "f1 = f1_score(y_le_test, predictions, average='macro')\n",
    "print(f'f1-score: {f1}')\n",
    "print(classification_report(y_le_test, predictions))"
   ]
  },
  {
   "cell_type": "code",
   "execution_count": null,
   "metadata": {},
   "outputs": [
    {
     "name": "stdout",
     "output_type": "stream",
     "text": [
      "[[6095    7   34]\n",
      " [ 300  804    0]\n",
      " [ 384    0  776]]\n"
     ]
    }
   ],
   "source": [
    "print(confusion_matrix(y_le_test, predictions))"
   ]
  },
  {
   "cell_type": "markdown",
   "metadata": {},
   "source": [
    "## Интерпретация модели\n",
    "Датасет имеет большое количество признаков. поэтому будеи рассматривать тоьлко наиболее значимую часть"
   ]
  },
  {
   "cell_type": "code",
   "execution_count": null,
   "metadata": {},
   "outputs": [],
   "source": [
    "features = {}\n",
    "for i in range(rf_clf.n_features_):\n",
    "    features[rf_clf.feature_names_in_[i]] = rf_clf.feature_importances_[i]"
   ]
  },
  {
   "cell_type": "code",
   "execution_count": null,
   "metadata": {},
   "outputs": [
    {
     "data": {
      "text/plain": [
       "{'u1_0': 0.00041967266522166725,\n",
       " 'u1_1': 0.0005361391752094259,\n",
       " 'u1_2': 0.0003984252408352417,\n",
       " 'u1_3': 0.0004805775154528018,\n",
       " 'u1_4': 0.0004615941504428159,\n",
       " 'u1_5': 0.00038768396359169666,\n",
       " 'u1_6': 0.00044600732600419586,\n",
       " 'u1_7': 0.000437736767710655,\n",
       " 'u1_8': 0.0004285856517810288,\n",
       " 'u1_9': 0.0004699863513966789,\n",
       " 'u2_0': 0.00040832953748847953,\n",
       " 'u2_1': 0.00034139089963497514,\n",
       " 'u2_2': 0.0003689513600388665,\n",
       " 'u2_3': 0.00042475707535082383,\n",
       " 'u2_4': 0.0004078788858094017,\n",
       " 'u2_5': 0.00046315222432194046,\n",
       " 'u2_6': 0.0005403446011093487,\n",
       " 'u2_7': 0.0005102543044194392,\n",
       " 'u2_8': 0.0005004449697599839,\n",
       " 'u2_9': 0.00041337975281424737,\n",
       " 'fault_u2_0': 0.0,\n",
       " 'fault_u2_1': 0.0,\n",
       " 'fault_u2_2': 0.0,\n",
       " 'fault_u2_3': 0.0,\n",
       " 'fault_u2_4': 0.0,\n",
       " 'fault_u2_5': 0.0,\n",
       " 'fault_u2_6': 0.0,\n",
       " 'fault_u2_7': 0.0,\n",
       " 'fault_u2_8': 0.0,\n",
       " 'fault_u2_9': 0.0,\n",
       " 'dev_y1_0': 0.002184343039979027,\n",
       " 'dev_y1_1': 0.0029385104626667886,\n",
       " 'dev_y1_2': 0.0028710304996008634,\n",
       " 'dev_y1_3': 0.006003500808737165,\n",
       " 'dev_y1_4': 0.007454501256708296,\n",
       " 'dev_y1_5': 0.008793822313709973,\n",
       " 'dev_y1_6': 0.015582454435602813,\n",
       " 'dev_y1_7': 0.017637145561902726,\n",
       " 'dev_y1_8': 0.024881463980065598,\n",
       " 'dev_y1_9': 0.034410746590302695,\n",
       " 'dev_y2_0': 0.003767844364692678,\n",
       " 'dev_y2_1': 0.004800377434272164,\n",
       " 'dev_y2_2': 0.004633889717924967,\n",
       " 'dev_y2_3': 0.005620507827201609,\n",
       " 'dev_y2_4': 0.006974266094605428,\n",
       " 'dev_y2_5': 0.010803420692923732,\n",
       " 'dev_y2_6': 0.013436130965831255,\n",
       " 'dev_y2_7': 0.02135146305129667,\n",
       " 'dev_y2_8': 0.025413628290596835,\n",
       " 'dev_y2_9': 0.033172891024987744,\n",
       " 'V_dev_y1_0': 0.002087663830960084,\n",
       " 'V_dev_y1_1': 0.0017739272035473997,\n",
       " 'V_dev_y1_2': 0.0029507828288573962,\n",
       " 'V_dev_y1_3': 0.002531640977391893,\n",
       " 'V_dev_y1_4': 0.004094207244325628,\n",
       " 'V_dev_y1_5': 0.003349936391137824,\n",
       " 'V_dev_y1_6': 0.004565272852605954,\n",
       " 'V_dev_y1_7': 0.0069521435047070895,\n",
       " 'V_dev_y1_8': 0.008424826957440637,\n",
       " 'V_dev_y1_9': 0.013726414985636393,\n",
       " 'V_dev_y2_0': 0.0021411309698180898,\n",
       " 'V_dev_y2_1': 0.0019118215022068332,\n",
       " 'V_dev_y2_2': 0.0022617347111223607,\n",
       " 'V_dev_y2_3': 0.002242126451553226,\n",
       " 'V_dev_y2_4': 0.0029351257456243767,\n",
       " 'V_dev_y2_5': 0.0029887635779347866,\n",
       " 'V_dev_y2_6': 0.003171409058667507,\n",
       " 'V_dev_y2_7': 0.00441630607278232,\n",
       " 'V_dev_y2_8': 0.004903694107361301,\n",
       " 'V_dev_y2_9': 0.007501897905791143,\n",
       " 'A_dev_y1_0': 0.002348760431234975,\n",
       " 'A_dev_y1_1': 0.0025400769202077577,\n",
       " 'A_dev_y1_2': 0.00200253276724125,\n",
       " 'A_dev_y1_3': 0.0019654087247941237,\n",
       " 'A_dev_y1_4': 0.0028653247446352535,\n",
       " 'A_dev_y1_5': 0.0033400327091179047,\n",
       " 'A_dev_y1_6': 0.004191146430492413,\n",
       " 'A_dev_y1_7': 0.0049719169037142465,\n",
       " 'A_dev_y1_8': 0.00731343787978773,\n",
       " 'A_dev_y1_9': 0.01312794078573354,\n",
       " 'A_dev_y2_0': 0.001474486415735783,\n",
       " 'A_dev_y2_1': 0.0020047504384750957,\n",
       " 'A_dev_y2_2': 0.002188745633676839,\n",
       " 'A_dev_y2_3': 0.0020045495003094163,\n",
       " 'A_dev_y2_4': 0.0022726522171287755,\n",
       " 'A_dev_y2_5': 0.0033662929193504373,\n",
       " 'A_dev_y2_6': 0.003344025998168192,\n",
       " 'A_dev_y2_7': 0.00416502839480528,\n",
       " 'A_dev_y2_8': 0.005577973527066692,\n",
       " 'A_dev_y2_9': 0.0071955789843955766,\n",
       " 'roll_5_u1_0': 0.0003713356944289594,\n",
       " 'roll_5_u1_1': 0.000448985037200394,\n",
       " 'roll_5_u1_2': 0.00036771634268298797,\n",
       " 'roll_5_u1_3': 0.0003963874892122391,\n",
       " 'roll_5_u1_4': 0.0003674098116171425,\n",
       " 'roll_5_u1_5': 0.00041329945636086013,\n",
       " 'roll_5_u1_6': 0.00040248375228964575,\n",
       " 'roll_5_u1_7': 0.0004210660362505614,\n",
       " 'roll_5_u1_8': 0.0003997491820975616,\n",
       " 'roll_5_u1_9': 0.0004295069976355438,\n",
       " 'roll_10_u1_0': 0.0006806316342492416,\n",
       " 'roll_10_u1_1': 0.000742999945889827,\n",
       " 'roll_10_u1_2': 0.000673660416225183,\n",
       " 'roll_10_u1_3': 0.0006901763586128192,\n",
       " 'roll_10_u1_4': 0.0005404332466875718,\n",
       " 'roll_10_u1_5': 0.0006325212662476446,\n",
       " 'roll_10_u1_6': 0.0005997969355059171,\n",
       " 'roll_10_u1_7': 0.0006238483590858705,\n",
       " 'roll_10_u1_8': 0.0005997640187926245,\n",
       " 'roll_10_u1_9': 0.0006179295292987587,\n",
       " 'roll_5_dev_y1_0': 0.002169219587805458,\n",
       " 'roll_5_dev_y1_1': 0.001605501486972638,\n",
       " 'roll_5_dev_y1_2': 0.0023337256578666314,\n",
       " 'roll_5_dev_y1_3': 0.0032712818897634014,\n",
       " 'roll_5_dev_y1_4': 0.003055311628386965,\n",
       " 'roll_5_dev_y1_5': 0.005912979196237093,\n",
       " 'roll_5_dev_y1_6': 0.006524937836007229,\n",
       " 'roll_5_dev_y1_7': 0.008228809670175594,\n",
       " 'roll_5_dev_y1_8': 0.014473864006312766,\n",
       " 'roll_5_dev_y1_9': 0.022013645357549117,\n",
       " 'roll_10_dev_y1_0': 0.002116760205882333,\n",
       " 'roll_10_dev_y1_1': 0.0020716340959663483,\n",
       " 'roll_10_dev_y1_2': 0.0024856062627941033,\n",
       " 'roll_10_dev_y1_3': 0.0028724447348809734,\n",
       " 'roll_10_dev_y1_4': 0.0036756694243470856,\n",
       " 'roll_10_dev_y1_5': 0.004581287536826053,\n",
       " 'roll_10_dev_y1_6': 0.0070440107852166554,\n",
       " 'roll_10_dev_y1_7': 0.007187937739499189,\n",
       " 'roll_10_dev_y1_8': 0.00883005462637537,\n",
       " 'roll_10_dev_y1_9': 0.01281947857414972,\n",
       " 'roll_5_dev_y2_0': 0.0026533074256044524,\n",
       " 'roll_5_dev_y2_1': 0.0027293742859358467,\n",
       " 'roll_5_dev_y2_2': 0.0041948488419889,\n",
       " 'roll_5_dev_y2_3': 0.004434981031483808,\n",
       " 'roll_5_dev_y2_4': 0.006581585810659688,\n",
       " 'roll_5_dev_y2_5': 0.008038542419835391,\n",
       " 'roll_5_dev_y2_6': 0.007726143239153761,\n",
       " 'roll_5_dev_y2_7': 0.012976656352972278,\n",
       " 'roll_5_dev_y2_8': 0.020620325975446666,\n",
       " 'roll_5_dev_y2_9': 0.02860510338751671,\n",
       " 'roll_10_dev_y2_0': 0.0027666886131369724,\n",
       " 'roll_10_dev_y2_1': 0.002569571922921056,\n",
       " 'roll_10_dev_y2_2': 0.0031242343124810723,\n",
       " 'roll_10_dev_y2_3': 0.003140075862319267,\n",
       " 'roll_10_dev_y2_4': 0.0033622973160238627,\n",
       " 'roll_10_dev_y2_5': 0.005842507036142139,\n",
       " 'roll_10_dev_y2_6': 0.0057784854961813745,\n",
       " 'roll_10_dev_y2_7': 0.008054150607415602,\n",
       " 'roll_10_dev_y2_8': 0.01256685773236897,\n",
       " 'roll_10_dev_y2_9': 0.011523721222881577,\n",
       " 'roll_5_V_dev_y1_0': 0.0007241714488863452,\n",
       " 'roll_5_V_dev_y1_1': 0.0012378220390687079,\n",
       " 'roll_5_V_dev_y1_2': 0.002868414523912064,\n",
       " 'roll_5_V_dev_y1_3': 0.0026387144215778936,\n",
       " 'roll_5_V_dev_y1_4': 0.0025062210233072904,\n",
       " 'roll_5_V_dev_y1_5': 0.0026654415949050954,\n",
       " 'roll_5_V_dev_y1_6': 0.0037975658108532965,\n",
       " 'roll_5_V_dev_y1_7': 0.005789493445607695,\n",
       " 'roll_5_V_dev_y1_8': 0.009763998194532851,\n",
       " 'roll_5_V_dev_y1_9': 0.015837904269025156,\n",
       " 'roll_10_V_dev_y1_0': 0.0005792648704701421,\n",
       " 'roll_10_V_dev_y1_1': 0.0007206744458597699,\n",
       " 'roll_10_V_dev_y1_2': 0.0008988654823276209,\n",
       " 'roll_10_V_dev_y1_3': 0.0007669201621582597,\n",
       " 'roll_10_V_dev_y1_4': 0.0012539919128116508,\n",
       " 'roll_10_V_dev_y1_5': 0.002076926693374407,\n",
       " 'roll_10_V_dev_y1_6': 0.004607623221339074,\n",
       " 'roll_10_V_dev_y1_7': 0.007895356982833765,\n",
       " 'roll_10_V_dev_y1_8': 0.010885112799109154,\n",
       " 'roll_10_V_dev_y1_9': 0.019270144751385054,\n",
       " 'roll_5_V_dev_y2_0': 0.001208080472472787,\n",
       " 'roll_5_V_dev_y2_1': 0.0013674667972888462,\n",
       " 'roll_5_V_dev_y2_2': 0.0013293610231886826,\n",
       " 'roll_5_V_dev_y2_3': 0.0016905388454052314,\n",
       " 'roll_5_V_dev_y2_4': 0.0019074395341495407,\n",
       " 'roll_5_V_dev_y2_5': 0.0022968600793255426,\n",
       " 'roll_5_V_dev_y2_6': 0.0033749084303834154,\n",
       " 'roll_5_V_dev_y2_7': 0.0039903132789036,\n",
       " 'roll_5_V_dev_y2_8': 0.006347536022165937,\n",
       " 'roll_5_V_dev_y2_9': 0.011675546735456586,\n",
       " 'roll_10_V_dev_y2_0': 0.0013115279599743472,\n",
       " 'roll_10_V_dev_y2_1': 0.0006509699594774592,\n",
       " 'roll_10_V_dev_y2_2': 0.0009637300972428839,\n",
       " 'roll_10_V_dev_y2_3': 0.001105687865136694,\n",
       " 'roll_10_V_dev_y2_4': 0.0015483391358434855,\n",
       " 'roll_10_V_dev_y2_5': 0.0024218597222917834,\n",
       " 'roll_10_V_dev_y2_6': 0.002805844982657305,\n",
       " 'roll_10_V_dev_y2_7': 0.005442371556868702,\n",
       " 'roll_10_V_dev_y2_8': 0.008294530855976484,\n",
       " 'roll_10_V_dev_y2_9': 0.013417362148847822,\n",
       " 'roll_5_A_dev_y1_0': 0.0006753010819923546,\n",
       " 'roll_5_A_dev_y1_1': 0.0006496543915311459,\n",
       " 'roll_5_A_dev_y1_2': 0.001908328903249127,\n",
       " 'roll_5_A_dev_y1_3': 0.0028250050866348696,\n",
       " 'roll_5_A_dev_y1_4': 0.0030215866392288345,\n",
       " 'roll_5_A_dev_y1_5': 0.004041795279908335,\n",
       " 'roll_5_A_dev_y1_6': 0.003814043802038768,\n",
       " 'roll_5_A_dev_y1_7': 0.005036114970253422,\n",
       " 'roll_5_A_dev_y1_8': 0.006644286203143854,\n",
       " 'roll_5_A_dev_y1_9': 0.013159258999701929,\n",
       " 'roll_10_A_dev_y1_0': 0.0002893538269392826,\n",
       " 'roll_10_A_dev_y1_1': 0.0003591386445221172,\n",
       " 'roll_10_A_dev_y1_2': 0.0003540384321357811,\n",
       " 'roll_10_A_dev_y1_3': 0.0004476711643340786,\n",
       " 'roll_10_A_dev_y1_4': 0.0007376006297886271,\n",
       " 'roll_10_A_dev_y1_5': 0.0006439855546414585,\n",
       " 'roll_10_A_dev_y1_6': 0.0024649413284042907,\n",
       " 'roll_10_A_dev_y1_7': 0.00392735937611523,\n",
       " 'roll_10_A_dev_y1_8': 0.006825806506569799,\n",
       " 'roll_10_A_dev_y1_9': 0.011987306413807073,\n",
       " 'roll_5_A_dev_y2_0': 0.000659128118203302,\n",
       " 'roll_5_A_dev_y2_1': 0.001026439343233812,\n",
       " 'roll_5_A_dev_y2_2': 0.0012668394190696439,\n",
       " 'roll_5_A_dev_y2_3': 0.0015611047048461682,\n",
       " 'roll_5_A_dev_y2_4': 0.002231950128877265,\n",
       " 'roll_5_A_dev_y2_5': 0.0024198603090426485,\n",
       " 'roll_5_A_dev_y2_6': 0.0028886129580932263,\n",
       " 'roll_5_A_dev_y2_7': 0.0031593648612880105,\n",
       " 'roll_5_A_dev_y2_8': 0.004264753591189498,\n",
       " 'roll_5_A_dev_y2_9': 0.00660528849590219,\n",
       " 'roll_10_A_dev_y2_0': 0.0004103280793617498,\n",
       " 'roll_10_A_dev_y2_1': 0.0003835489455892081,\n",
       " 'roll_10_A_dev_y2_2': 0.0005608018314993185,\n",
       " 'roll_10_A_dev_y2_3': 0.0005525638787903667,\n",
       " 'roll_10_A_dev_y2_4': 0.0007191837787579326,\n",
       " 'roll_10_A_dev_y2_5': 0.0009446088915914779,\n",
       " 'roll_10_A_dev_y2_6': 0.001566600386525089,\n",
       " 'roll_10_A_dev_y2_7': 0.0030315524837272183,\n",
       " 'roll_10_A_dev_y2_8': 0.00438558190637425,\n",
       " 'roll_10_A_dev_y2_9': 0.005862366313293157}"
      ]
     },
     "execution_count": 77,
     "metadata": {},
     "output_type": "execute_result"
    }
   ],
   "source": [
    "features"
   ]
  },
  {
   "cell_type": "markdown",
   "metadata": {},
   "source": [
    "#### Mean Decrease Impurity"
   ]
  },
  {
   "cell_type": "code",
   "execution_count": null,
   "metadata": {},
   "outputs": [],
   "source": []
  },
  {
   "cell_type": "code",
   "execution_count": null,
   "metadata": {},
   "outputs": [
    {
     "ename": "AttributeError",
     "evalue": "'numpy.ndarray' object has no attribute 'columns'",
     "output_type": "error",
     "traceback": [
      "\u001b[1;31m---------------------------------------------------------------------------\u001b[0m",
      "\u001b[1;31mAttributeError\u001b[0m                            Traceback (most recent call last)",
      "\u001b[1;32mC:\\Users\\CD86~1\\AppData\\Local\\Temp/ipykernel_10008/1899946271.py\u001b[0m in \u001b[0;36m<module>\u001b[1;34m\u001b[0m\n\u001b[1;32m----> 1\u001b[1;33m \u001b[0mforest_importances\u001b[0m \u001b[1;33m=\u001b[0m \u001b[0mpd\u001b[0m\u001b[1;33m.\u001b[0m\u001b[0mSeries\u001b[0m\u001b[1;33m(\u001b[0m\u001b[0mrf_clf\u001b[0m\u001b[1;33m.\u001b[0m\u001b[0mfeature_importances_\u001b[0m\u001b[1;33m,\u001b[0m \u001b[0mindex\u001b[0m\u001b[1;33m=\u001b[0m\u001b[0mX_array_train\u001b[0m\u001b[1;33m.\u001b[0m\u001b[0mcolumns\u001b[0m\u001b[1;33m)\u001b[0m\u001b[1;33m\u001b[0m\u001b[1;33m\u001b[0m\u001b[0m\n\u001b[0m\u001b[0;32m      2\u001b[0m \u001b[1;33m\u001b[0m\u001b[0m\n\u001b[0;32m      3\u001b[0m \u001b[0mfig\u001b[0m\u001b[1;33m,\u001b[0m \u001b[0max\u001b[0m \u001b[1;33m=\u001b[0m \u001b[0mplt\u001b[0m\u001b[1;33m.\u001b[0m\u001b[0msubplots\u001b[0m\u001b[1;33m(\u001b[0m\u001b[1;33m)\u001b[0m\u001b[1;33m\u001b[0m\u001b[1;33m\u001b[0m\u001b[0m\n\u001b[0;32m      4\u001b[0m \u001b[0mstd\u001b[0m \u001b[1;33m=\u001b[0m \u001b[0mnp\u001b[0m\u001b[1;33m.\u001b[0m\u001b[0mstd\u001b[0m\u001b[1;33m(\u001b[0m\u001b[1;33m[\u001b[0m\u001b[0mtree\u001b[0m\u001b[1;33m.\u001b[0m\u001b[0mfeature_importances_\u001b[0m \u001b[1;32mfor\u001b[0m \u001b[0mtree\u001b[0m \u001b[1;32min\u001b[0m \u001b[0mrf_clf\u001b[0m\u001b[1;33m.\u001b[0m\u001b[0mestimators_\u001b[0m\u001b[1;33m]\u001b[0m\u001b[1;33m,\u001b[0m \u001b[0maxis\u001b[0m\u001b[1;33m=\u001b[0m\u001b[1;36m0\u001b[0m\u001b[1;33m)\u001b[0m\u001b[1;33m\u001b[0m\u001b[1;33m\u001b[0m\u001b[0m\n\u001b[0;32m      5\u001b[0m \u001b[0mforest_importances\u001b[0m\u001b[1;33m.\u001b[0m\u001b[0mplot\u001b[0m\u001b[1;33m.\u001b[0m\u001b[0mbar\u001b[0m\u001b[1;33m(\u001b[0m\u001b[0myerr\u001b[0m\u001b[1;33m=\u001b[0m\u001b[0mstd\u001b[0m\u001b[1;33m,\u001b[0m \u001b[0max\u001b[0m\u001b[1;33m=\u001b[0m\u001b[0max\u001b[0m\u001b[1;33m)\u001b[0m\u001b[1;33m\u001b[0m\u001b[1;33m\u001b[0m\u001b[0m\n",
      "\u001b[1;31mAttributeError\u001b[0m: 'numpy.ndarray' object has no attribute 'columns'"
     ]
    }
   ],
   "source": [
    "\n",
    "\n",
    "forest_importances = pd.Series(rf_clf.feature_importances_, index=X_array_train.columns)\n",
    "\n",
    "fig, ax = plt.subplots()\n",
    "std = np.std([tree.feature_importances_ for tree in rf_clf.estimators_], axis=0)\n",
    "forest_importances.plot.bar(yerr=std, ax=ax)\n",
    "ax.set_title(\"Feature importances using MDI\")\n",
    "ax.set_ylabel(\"Mean decrease in impurity\", )\n",
    "fig.tight_layout()"
   ]
  },
  {
   "cell_type": "code",
   "execution_count": null,
   "metadata": {},
   "outputs": [],
   "source": []
  }
 ],
 "metadata": {
  "kernelspec": {
   "display_name": "Python 3",
   "language": "python",
   "name": "python3"
  },
  "language_info": {
   "codemirror_mode": {
    "name": "ipython",
    "version": 3
   },
   "file_extension": ".py",
   "mimetype": "text/x-python",
   "name": "python",
   "nbconvert_exporter": "python",
   "pygments_lexer": "ipython3",
   "version": "3.7.5"
  }
 },
 "nbformat": 4,
 "nbformat_minor": 2
}
