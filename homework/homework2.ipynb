{
 "cells": [
  {
   "cell_type": "markdown",
   "metadata": {},
   "source": [
    "# Домашнее задание 2"
   ]
  },
  {
   "cell_type": "code",
   "execution_count": 1,
   "metadata": {},
   "outputs": [
    {
     "name": "stderr",
     "output_type": "stream",
     "text": [
      "c:\\python\\python39\\lib\\site-packages\\tqdm\\auto.py:21: TqdmWarning: IProgress not found. Please update jupyter and ipywidgets. See https://ipywidgets.readthedocs.io/en/stable/user_install.html\n",
      "  from .autonotebook import tqdm as notebook_tqdm\n"
     ]
    }
   ],
   "source": [
    "import pandas as pd\n",
    "import numpy as np\n",
    "import glob\n",
    "import matplotlib.pyplot as plt\n",
    "from sklearn.preprocessing import StandardScaler\n",
    "from sklearn.model_selection import train_test_split, KFold, cross_validate\n",
    "from sklearn.ensemble import RandomForestClassifier\n",
    "from sklearn.metrics import f1_score, classification_report, confusion_matrix\n",
    "\n",
    "import optuna\n",
    "\n",
    "import warnings\n",
    "warnings.filterwarnings('ignore')"
   ]
  },
  {
   "cell_type": "markdown",
   "metadata": {},
   "source": [
    "## Загрузка данных и генерация датасета"
   ]
  },
  {
   "cell_type": "code",
   "execution_count": 2,
   "metadata": {},
   "outputs": [],
   "source": [
    "measurement_step = 100\n",
    "series_len = 10\n",
    "files = glob.glob('datasets/*.csv')\n",
    "\n",
    "\n",
    "def get_dataset(measurement_step, series_len):\n",
    "    files = glob.glob('dataset/*/*.csv')\n",
    "\n",
    "    measurement_step = 10\n",
    "\n",
    "    data = []\n",
    "    for file in files:\n",
    "        if(file != 'data_model.csv'):\n",
    "            temp = pd.read_csv(file, usecols = ['u1', 'u2', 'y1', 'y2', 'y_nominal1', 'y_nominal2',\n",
    "                                                'fault_u1', 'fault_u2', 'fault_y1', 'fault_y2', 'comp_fault'])\n",
    "            indexes = range(0, temp.shape[0], measurement_step)\n",
    "            temp = temp.iloc[indexes][:]\n",
    "            #temp.reset_index(inplace=True)\n",
    "            data.append(temp)      \n",
    "\n",
    "    #Уберем строки, не относящиеся к отказу ИНС и заменим ненулевые значения отказов на 1.\n",
    "    drop_cols = ['fault_u1', 'fault_u1', 'fault_u2', 'comp_fault']\n",
    "    for experiment in data:\n",
    "        experiment.drop(drop_cols, inplace=True, axis=1)\n",
    "        experiment['fault_y1'].replace([1., 2., 3,], 1, inplace=True)\n",
    "        experiment['fault_y2'].replace([1., 2., 3,], 1, inplace=True)\n",
    "        \n",
    "    #Заменим абсолютные значения выходов на отклонения\n",
    "    for experiment in data:\n",
    "        experiment['dev_y1'] = experiment['y_nominal1'] - experiment['y1']\n",
    "        experiment['dev_y2'] = experiment['y_nominal2'] - experiment['y2']\n",
    "        experiment.drop(['y1', 'y2', 'y_nominal1', 'y_nominal2'], inplace=True, axis=1)\n",
    "        \n",
    "    #Добавим первую и вторую производные\n",
    "    for df1 in data:\n",
    "        df1['V_dev_y1'] = df1['dev_y1'].shift(1) - df1['dev_y1']\n",
    "        df1['V_dev_y2'] = df1['dev_y2'].shift(1) - df1['dev_y2']\n",
    "        df1.dropna(axis=0, inplace=True)\n",
    "        df1['A_dev_y1'] = df1['V_dev_y1'].shift(1) - df1['V_dev_y1']\n",
    "        df1['A_dev_y2'] = df1['V_dev_y2'].shift(1) - df1['V_dev_y2']\n",
    "        df1.dropna(axis=0, inplace=True)\n",
    "        \n",
    "    # Добавим скользящие средние на series_len и series_len/2\n",
    "    cols = [col for col in data[0].columns if ('y1' in col or\n",
    "                                        'y2' in col or\n",
    "                                        'u1' in col) and 'fault' not in col]\n",
    "    for df1 in data:\n",
    "        for col in cols:\n",
    "            df1['roll_5_' + col] = df1[col].rolling(series_len // 2).mean()\n",
    "            df1['roll_10_' + col] = df1[col].rolling(series_len).mean()\n",
    "        df1.dropna(axis=0, inplace=True)\n",
    "        df1.reset_index(drop=True, inplace=True)\n",
    "        \n",
    "    #Сформируем датасет в виде временных последовательностей по series_len значений\n",
    "    lag = series_len - 1\n",
    "    new_cols = []\n",
    "    for col in data[0].drop(['fault_y1', 'fault_y2'], axis=1).columns:\n",
    "        new_cols += [col + '_' + str(i) for i in range(series_len)]\n",
    "    new_cols += ['fault_y1', 'fault_y2']\n",
    "\n",
    "    df = pd.DataFrame(data=None, columns=new_cols)\n",
    "    cols = data[0].drop(['fault_y1', 'fault_y2'], axis=1).columns\n",
    "\n",
    "    for k, experiment in enumerate(data):\n",
    "        for i in range(lag, experiment.shape[0]):\n",
    "            sample = []\n",
    "            for col in cols:\n",
    "                temp = list(experiment.loc[(i-lag):i][col])\n",
    "                sample += temp\n",
    "                \n",
    "            sample_fault_y1 = list(experiment.loc[(i-lag):i]['fault_y1'])\n",
    "            if sum(sample_fault_y1) == series_len:\n",
    "                fault_y1_data = 1\n",
    "            else:\n",
    "                fault_y1_data = 0\n",
    "                \n",
    "            sample_fault_y2 = list(experiment.loc[(i-lag):i]['fault_y2'])\n",
    "            if sum(sample_fault_y2) == series_len:\n",
    "                fault_y2_data = 1\n",
    "            else:\n",
    "                fault_y2_data = 0\n",
    "                \n",
    "            sample += [fault_y1_data, fault_y2_data]\n",
    "            df.loc[len(df)] = sample\n",
    "            \n",
    "    df['fault_LE'] = 0\n",
    "    df['fault_LE'].loc[ (df['fault_y1'] == 0) & (df['fault_y1'] == 0)] = 0\n",
    "    df['fault_LE'].loc[df['fault_y1'] == 1] = 1\n",
    "    df['fault_LE'].loc[df['fault_y2'] == 1] = 2\n",
    "\n",
    "    scaler = StandardScaler()\n",
    "    X_array = scaler.fit_transform(df.drop(['fault_y1', 'fault_y2', 'fault_LE'], axis=1))\n",
    "    y_le = np.array(df['fault_LE'])\n",
    "\n",
    "    X_series = X_array.reshape((X_array.shape[0], series_len, int(X_array.shape[1] / series_len)))\n",
    "    y_ohe = np.array(df[['fault_y1', 'fault_y2']])\n",
    "\n",
    "    return df, X_array, y_le, X_series, y_ohe "
   ]
  },
  {
   "cell_type": "code",
   "execution_count": 3,
   "metadata": {},
   "outputs": [],
   "source": [
    "df, X_array, y_le, X_series, y_ohe = get_dataset(measurement_step, series_len)\n",
    "\n",
    "X_array_train, X_array_test, y_le_train, y_le_test = train_test_split(X_array, y_le, stratify=y_le, test_size=0.25, random_state=0)"
   ]
  },
  {
   "cell_type": "code",
   "execution_count": 4,
   "metadata": {},
   "outputs": [
    {
     "data": {
      "text/plain": [
       "((25200, 220), (25200,))"
      ]
     },
     "execution_count": 4,
     "metadata": {},
     "output_type": "execute_result"
    }
   ],
   "source": [
    "X_array_train.shape, y_le_train.shape"
   ]
  },
  {
   "cell_type": "code",
   "execution_count": 5,
   "metadata": {},
   "outputs": [
    {
     "data": {
      "text/plain": [
       "((25200, 220), (25200, 1))"
      ]
     },
     "execution_count": 5,
     "metadata": {},
     "output_type": "execute_result"
    }
   ],
   "source": [
    "col_names = df.drop(['fault_y1', 'fault_y2', 'fault_LE'], axis=1).columns\n",
    "\n",
    "X_train, X_test = pd.DataFrame(X_array_train, columns=col_names), pd.DataFrame(X_array_test, columns=col_names)\n",
    "y_train, y_test = pd.DataFrame(y_le_train, columns=['fault']), pd.DataFrame(y_le_test, columns=['fault'])\n",
    "X_train.shape, y_train.shape"
   ]
  },
  {
   "cell_type": "markdown",
   "metadata": {},
   "source": [
    "## Построение модели\n",
    "В ходе выоплнения первого задания достаточно высокую точность показал случайный лес при низких вычислительных затратах в сравнении с аналогами по выбранной метрике. Проведем подбор его гиперпараметров с применением optuna"
   ]
  },
  {
   "cell_type": "code",
   "execution_count": 6,
   "metadata": {},
   "outputs": [],
   "source": [
    "def objective(trial, X, y, cv):\n",
    "\n",
    "  params = params = {\n",
    "            'n_estimators': trial.suggest_int('n_estimators', 50, 1000),\n",
    "            'max_depth': trial.suggest_int('max_depth', 3, 50),\n",
    "            'min_samples_split': trial.suggest_int('min_samples_split', 1, 150),\n",
    "            'min_samples_leaf': trial.suggest_int('min_samples_leaf', 1, 60),\n",
    "        }\n",
    "  rf_clf = RandomForestClassifier(**params, random_state=0)\n",
    "  cv_result = cross_validate(rf_clf, X, y, cv = cv, scoring=['precision_macro', 'recall_macro'], n_jobs = -1)\n",
    "  precision = cv_result [\"test_precision_macro\"].mean()\n",
    "  recall = cv_result [\"test_recall_macro\"].mean()\n",
    "  f1 = 2* precision * recall / (precision + recall)\n",
    "  return f1"
   ]
  },
  {
   "cell_type": "code",
   "execution_count": 7,
   "metadata": {},
   "outputs": [
    {
     "name": "stderr",
     "output_type": "stream",
     "text": [
      "[I 2024-02-17 12:59:15,317] A new study created in memory with name: no-name-e9fcb193-a699-49db-8c68-e80388b03555\n",
      "[I 2024-02-17 13:10:12,458] Trial 0 finished with value: 0.8235047743254286 and parameters: {'n_estimators': 654, 'max_depth': 36, 'min_samples_split': 135, 'min_samples_leaf': 44}. Best is trial 0 with value: 0.8235047743254286.\n",
      "[I 2024-02-17 13:22:41,705] Trial 1 finished with value: 0.8382792938955631 and parameters: {'n_estimators': 661, 'max_depth': 35, 'min_samples_split': 75, 'min_samples_leaf': 17}. Best is trial 1 with value: 0.8382792938955631.\n",
      "[I 2024-02-17 16:04:21,633] Trial 2 finished with value: 0.8335841793758818 and parameters: {'n_estimators': 882, 'max_depth': 32, 'min_samples_split': 14, 'min_samples_leaf': 26}. Best is trial 1 with value: 0.8382792938955631.\n",
      "[I 2024-02-17 16:20:28,807] Trial 3 finished with value: 0.8344644223823995 and parameters: {'n_estimators': 803, 'max_depth': 34, 'min_samples_split': 114, 'min_samples_leaf': 19}. Best is trial 1 with value: 0.8382792938955631.\n",
      "[I 2024-02-17 16:22:53,402] Trial 4 finished with value: 0.7678067715094068 and parameters: {'n_estimators': 263, 'max_depth': 10, 'min_samples_split': 107, 'min_samples_leaf': 13}. Best is trial 1 with value: 0.8382792938955631.\n",
      "[I 2024-02-17 16:35:55,687] Trial 5 finished with value: 0.8300171378467454 and parameters: {'n_estimators': 765, 'max_depth': 36, 'min_samples_split': 92, 'min_samples_leaf': 31}. Best is trial 1 with value: 0.8382792938955631.\n",
      "[I 2024-02-17 16:46:46,038] Trial 6 finished with value: 0.8224518373500808 and parameters: {'n_estimators': 655, 'max_depth': 22, 'min_samples_split': 86, 'min_samples_leaf': 12}. Best is trial 1 with value: 0.8382792938955631.\n",
      "[I 2024-02-17 16:49:00,246] Trial 7 finished with value: 0.8093766544565645 and parameters: {'n_estimators': 184, 'max_depth': 15, 'min_samples_split': 108, 'min_samples_leaf': 41}. Best is trial 1 with value: 0.8382792938955631.\n",
      "[I 2024-02-17 16:53:55,207] Trial 8 finished with value: 0.8078949418279988 and parameters: {'n_estimators': 343, 'max_depth': 20, 'min_samples_split': 127, 'min_samples_leaf': 54}. Best is trial 1 with value: 0.8382792938955631.\n",
      "[I 2024-02-17 17:07:33,302] Trial 9 finished with value: 0.8237115354737551 and parameters: {'n_estimators': 897, 'max_depth': 35, 'min_samples_split': 14, 'min_samples_leaf': 50}. Best is trial 1 with value: 0.8382792938955631.\n",
      "[I 2024-02-17 17:20:28,600] Trial 10 finished with value: 0.8598786302521257 and parameters: {'n_estimators': 481, 'max_depth': 49, 'min_samples_split': 51, 'min_samples_leaf': 3}. Best is trial 10 with value: 0.8598786302521257.\n",
      "[I 2024-02-17 17:32:41,802] Trial 11 finished with value: 0.8619239984334548 and parameters: {'n_estimators': 448, 'max_depth': 48, 'min_samples_split': 49, 'min_samples_leaf': 2}. Best is trial 11 with value: 0.8619239984334548.\n",
      "[I 2024-02-17 17:47:15,378] Trial 12 finished with value: 0.8599367223988609 and parameters: {'n_estimators': 454, 'max_depth': 49, 'min_samples_split': 55, 'min_samples_leaf': 3}. Best is trial 11 with value: 0.8619239984334548.\n",
      "[I 2024-02-17 18:03:27,443] Trial 13 finished with value: 0.8655492454242759 and parameters: {'n_estimators': 446, 'max_depth': 48, 'min_samples_split': 47, 'min_samples_leaf': 1}. Best is trial 13 with value: 0.8655492454242759.\n",
      "[I 2024-02-17 18:06:40,579] Trial 14 finished with value: 0.8640212486285339 and parameters: {'n_estimators': 92, 'max_depth': 43, 'min_samples_split': 37, 'min_samples_leaf': 1}. Best is trial 13 with value: 0.8655492454242759.\n",
      "[I 2024-02-17 18:08:37,404] Trial 15 finished with value: 0.8518860020967428 and parameters: {'n_estimators': 65, 'max_depth': 43, 'min_samples_split': 29, 'min_samples_leaf': 9}. Best is trial 13 with value: 0.8655492454242759.\n",
      "[I 2024-02-17 18:11:04,056] Trial 16 finished with value: 0.8335274527822744 and parameters: {'n_estimators': 104, 'max_depth': 42, 'min_samples_split': 32, 'min_samples_leaf': 25}. Best is trial 13 with value: 0.8655492454242759.\n",
      "[I 2024-02-17 18:16:02,572] Trial 17 finished with value: 0.8194617528786916 and parameters: {'n_estimators': 301, 'max_depth': 42, 'min_samples_split': 70, 'min_samples_leaf': 60}. Best is trial 13 with value: 0.8655492454242759.\n",
      "[I 2024-02-17 18:19:07,956] Trial 18 finished with value: 0.8287886763068216 and parameters: {'n_estimators': 173, 'max_depth': 28, 'min_samples_split': 37, 'min_samples_leaf': 34}. Best is trial 13 with value: 0.8655492454242759.\n",
      "[I 2024-02-17 18:29:53,062] Trial 19 finished with value: 0.854424266445647 and parameters: {'n_estimators': 364, 'max_depth': 43, 'min_samples_split': 2, 'min_samples_leaf': 7}. Best is trial 13 with value: 0.8655492454242759.\n",
      "[I 2024-02-17 18:33:51,051] Trial 20 finished with value: 0.7292024623532658 and parameters: {'n_estimators': 566, 'max_depth': 6, 'min_samples_split': 149, 'min_samples_leaf': 20}. Best is trial 13 with value: 0.8655492454242759.\n",
      "[I 2024-02-17 18:48:18,202] Trial 21 finished with value: 0.8640885495611735 and parameters: {'n_estimators': 417, 'max_depth': 49, 'min_samples_split': 55, 'min_samples_leaf': 1}. Best is trial 13 with value: 0.8655492454242759.\n",
      "[I 2024-02-17 19:05:17,584] Trial 22 finished with value: 0.8517542706151555 and parameters: {'n_estimators': 578, 'max_depth': 45, 'min_samples_split': 62, 'min_samples_leaf': 7}. Best is trial 13 with value: 0.8655492454242759.\n",
      "[I 2024-02-17 19:11:51,659] Trial 23 finished with value: 0.8623818984427125 and parameters: {'n_estimators': 206, 'max_depth': 40, 'min_samples_split': 41, 'min_samples_leaf': 2}. Best is trial 13 with value: 0.8655492454242759.\n",
      "[I 2024-02-17 19:22:33,996] Trial 24 finished with value: 0.8485275321074103 and parameters: {'n_estimators': 389, 'max_depth': 49, 'min_samples_split': 25, 'min_samples_leaf': 11}. Best is trial 13 with value: 0.8655492454242759.\n",
      "[I 2024-02-17 19:30:22,454] Trial 25 finished with value: 0.8530699864288618 and parameters: {'n_estimators': 268, 'max_depth': 39, 'min_samples_split': 63, 'min_samples_leaf': 6}. Best is trial 13 with value: 0.8655492454242759.\n",
      "[I 2024-02-17 19:43:30,716] Trial 26 finished with value: 0.8394055664921671 and parameters: {'n_estimators': 525, 'max_depth': 45, 'min_samples_split': 85, 'min_samples_leaf': 16}. Best is trial 13 with value: 0.8655492454242759.\n",
      "[I 2024-02-17 19:46:39,470] Trial 27 finished with value: 0.8437079250161004 and parameters: {'n_estimators': 125, 'max_depth': 27, 'min_samples_split': 45, 'min_samples_leaf': 2}. Best is trial 13 with value: 0.8655492454242759.\n",
      "[I 2024-02-17 20:06:31,956] Trial 28 finished with value: 0.8355475323897019 and parameters: {'n_estimators': 973, 'max_depth': 47, 'min_samples_split': 14, 'min_samples_leaf': 23}. Best is trial 13 with value: 0.8655492454242759.\n",
      "[I 2024-02-17 20:20:26,884] Trial 29 finished with value: 0.8416375917263453 and parameters: {'n_estimators': 722, 'max_depth': 39, 'min_samples_split': 63, 'min_samples_leaf': 14}. Best is trial 13 with value: 0.8655492454242759.\n"
     ]
    }
   ],
   "source": [
    "kf = KFold(n_splits = 5, shuffle = True, random_state = 42)\n",
    "func = lambda trial: objective(trial, X_train, y_train, cv=kf)\n",
    "\n",
    "study = optuna.create_study(direction=\"maximize\")\n",
    "study.optimize(func, n_trials=30)"
   ]
  },
  {
   "cell_type": "markdown",
   "metadata": {},
   "source": [
    "Проведем обучение модели с оптимизированными гиперпараметрами"
   ]
  },
  {
   "cell_type": "code",
   "execution_count": 8,
   "metadata": {},
   "outputs": [
    {
     "data": {
      "text/plain": [
       "{'n_estimators': 446,\n",
       " 'max_depth': 48,\n",
       " 'min_samples_split': 47,\n",
       " 'min_samples_leaf': 1}"
      ]
     },
     "execution_count": 8,
     "metadata": {},
     "output_type": "execute_result"
    }
   ],
   "source": [
    "best_params = study.best_params\n",
    "best_params"
   ]
  },
  {
   "cell_type": "code",
   "execution_count": 9,
   "metadata": {},
   "outputs": [],
   "source": [
    "rf_clf = RandomForestClassifier(**best_params)"
   ]
  },
  {
   "cell_type": "code",
   "execution_count": 10,
   "metadata": {},
   "outputs": [
    {
     "data": {
      "text/html": [
       "<style>#sk-container-id-1 {color: black;background-color: white;}#sk-container-id-1 pre{padding: 0;}#sk-container-id-1 div.sk-toggleable {background-color: white;}#sk-container-id-1 label.sk-toggleable__label {cursor: pointer;display: block;width: 100%;margin-bottom: 0;padding: 0.3em;box-sizing: border-box;text-align: center;}#sk-container-id-1 label.sk-toggleable__label-arrow:before {content: \"▸\";float: left;margin-right: 0.25em;color: #696969;}#sk-container-id-1 label.sk-toggleable__label-arrow:hover:before {color: black;}#sk-container-id-1 div.sk-estimator:hover label.sk-toggleable__label-arrow:before {color: black;}#sk-container-id-1 div.sk-toggleable__content {max-height: 0;max-width: 0;overflow: hidden;text-align: left;background-color: #f0f8ff;}#sk-container-id-1 div.sk-toggleable__content pre {margin: 0.2em;color: black;border-radius: 0.25em;background-color: #f0f8ff;}#sk-container-id-1 input.sk-toggleable__control:checked~div.sk-toggleable__content {max-height: 200px;max-width: 100%;overflow: auto;}#sk-container-id-1 input.sk-toggleable__control:checked~label.sk-toggleable__label-arrow:before {content: \"▾\";}#sk-container-id-1 div.sk-estimator input.sk-toggleable__control:checked~label.sk-toggleable__label {background-color: #d4ebff;}#sk-container-id-1 div.sk-label input.sk-toggleable__control:checked~label.sk-toggleable__label {background-color: #d4ebff;}#sk-container-id-1 input.sk-hidden--visually {border: 0;clip: rect(1px 1px 1px 1px);clip: rect(1px, 1px, 1px, 1px);height: 1px;margin: -1px;overflow: hidden;padding: 0;position: absolute;width: 1px;}#sk-container-id-1 div.sk-estimator {font-family: monospace;background-color: #f0f8ff;border: 1px dotted black;border-radius: 0.25em;box-sizing: border-box;margin-bottom: 0.5em;}#sk-container-id-1 div.sk-estimator:hover {background-color: #d4ebff;}#sk-container-id-1 div.sk-parallel-item::after {content: \"\";width: 100%;border-bottom: 1px solid gray;flex-grow: 1;}#sk-container-id-1 div.sk-label:hover label.sk-toggleable__label {background-color: #d4ebff;}#sk-container-id-1 div.sk-serial::before {content: \"\";position: absolute;border-left: 1px solid gray;box-sizing: border-box;top: 0;bottom: 0;left: 50%;z-index: 0;}#sk-container-id-1 div.sk-serial {display: flex;flex-direction: column;align-items: center;background-color: white;padding-right: 0.2em;padding-left: 0.2em;position: relative;}#sk-container-id-1 div.sk-item {position: relative;z-index: 1;}#sk-container-id-1 div.sk-parallel {display: flex;align-items: stretch;justify-content: center;background-color: white;position: relative;}#sk-container-id-1 div.sk-item::before, #sk-container-id-1 div.sk-parallel-item::before {content: \"\";position: absolute;border-left: 1px solid gray;box-sizing: border-box;top: 0;bottom: 0;left: 50%;z-index: -1;}#sk-container-id-1 div.sk-parallel-item {display: flex;flex-direction: column;z-index: 1;position: relative;background-color: white;}#sk-container-id-1 div.sk-parallel-item:first-child::after {align-self: flex-end;width: 50%;}#sk-container-id-1 div.sk-parallel-item:last-child::after {align-self: flex-start;width: 50%;}#sk-container-id-1 div.sk-parallel-item:only-child::after {width: 0;}#sk-container-id-1 div.sk-dashed-wrapped {border: 1px dashed gray;margin: 0 0.4em 0.5em 0.4em;box-sizing: border-box;padding-bottom: 0.4em;background-color: white;}#sk-container-id-1 div.sk-label label {font-family: monospace;font-weight: bold;display: inline-block;line-height: 1.2em;}#sk-container-id-1 div.sk-label-container {text-align: center;}#sk-container-id-1 div.sk-container {/* jupyter's `normalize.less` sets `[hidden] { display: none; }` but bootstrap.min.css set `[hidden] { display: none !important; }` so we also need the `!important` here to be able to override the default hidden behavior on the sphinx rendered scikit-learn.org. See: https://github.com/scikit-learn/scikit-learn/issues/21755 */display: inline-block !important;position: relative;}#sk-container-id-1 div.sk-text-repr-fallback {display: none;}</style><div id=\"sk-container-id-1\" class=\"sk-top-container\"><div class=\"sk-text-repr-fallback\"><pre>RandomForestClassifier(max_depth=48, min_samples_split=47, n_estimators=446)</pre><b>In a Jupyter environment, please rerun this cell to show the HTML representation or trust the notebook. <br />On GitHub, the HTML representation is unable to render, please try loading this page with nbviewer.org.</b></div><div class=\"sk-container\" hidden><div class=\"sk-item\"><div class=\"sk-estimator sk-toggleable\"><input class=\"sk-toggleable__control sk-hidden--visually\" id=\"sk-estimator-id-1\" type=\"checkbox\" checked><label for=\"sk-estimator-id-1\" class=\"sk-toggleable__label sk-toggleable__label-arrow\">RandomForestClassifier</label><div class=\"sk-toggleable__content\"><pre>RandomForestClassifier(max_depth=48, min_samples_split=47, n_estimators=446)</pre></div></div></div></div></div>"
      ],
      "text/plain": [
       "RandomForestClassifier(max_depth=48, min_samples_split=47, n_estimators=446)"
      ]
     },
     "execution_count": 10,
     "metadata": {},
     "output_type": "execute_result"
    }
   ],
   "source": [
    "rf_clf.fit(X_train, y_train)"
   ]
  },
  {
   "cell_type": "code",
   "execution_count": 11,
   "metadata": {},
   "outputs": [
    {
     "data": {
      "text/plain": [
       "(25200, 220)"
      ]
     },
     "execution_count": 11,
     "metadata": {},
     "output_type": "execute_result"
    }
   ],
   "source": [
    "X_array_train.shape"
   ]
  },
  {
   "cell_type": "markdown",
   "metadata": {},
   "source": [
    "Оценим качество на отложенной выборке"
   ]
  },
  {
   "cell_type": "code",
   "execution_count": 12,
   "metadata": {},
   "outputs": [],
   "source": [
    "predictions = rf_clf.predict(X_array_test)"
   ]
  },
  {
   "cell_type": "code",
   "execution_count": 13,
   "metadata": {},
   "outputs": [
    {
     "name": "stdout",
     "output_type": "stream",
     "text": [
      "f1-score: 0.8654091173392043\n",
      "              precision    recall  f1-score   support\n",
      "\n",
      "           0       0.91      0.99      0.95      6136\n",
      "           1       0.99      0.75      0.85      1104\n",
      "           2       0.95      0.69      0.80      1160\n",
      "\n",
      "    accuracy                           0.92      8400\n",
      "   macro avg       0.95      0.81      0.87      8400\n",
      "weighted avg       0.92      0.92      0.91      8400\n",
      "\n"
     ]
    }
   ],
   "source": [
    "f1 = f1_score(y_le_test, predictions, average='macro')\n",
    "print(f'f1-score: {f1}')\n",
    "print(classification_report(y_le_test, predictions))"
   ]
  },
  {
   "cell_type": "code",
   "execution_count": 14,
   "metadata": {},
   "outputs": [
    {
     "name": "stdout",
     "output_type": "stream",
     "text": [
      "[[6081   12   43]\n",
      " [ 277  827    0]\n",
      " [ 360    0  800]]\n"
     ]
    }
   ],
   "source": [
    "print(confusion_matrix(y_le_test, predictions))"
   ]
  },
  {
   "cell_type": "markdown",
   "metadata": {},
   "source": [
    "## Интерпретация модели\n",
    "Датасет имеет большое количество признаков. поэтому сперва определим только наиболее значимую часть"
   ]
  },
  {
   "cell_type": "code",
   "execution_count": 31,
   "metadata": {},
   "outputs": [],
   "source": [
    "features = {}\n",
    "for i in range(len(X_test.columns)):\n",
    "    features[rf_clf.feature_names_in_[i]] = rf_clf.feature_importances_[i]"
   ]
  },
  {
   "cell_type": "code",
   "execution_count": 32,
   "metadata": {},
   "outputs": [
    {
     "data": {
      "text/plain": [
       "[('dev_y1_9', 0.03697317949081328),\n",
       " ('dev_y2_9', 0.03369950787514707),\n",
       " ('roll_5_dev_y2_9', 0.02516596607751467),\n",
       " ('dev_y2_7', 0.022326804170204814),\n",
       " ('dev_y1_8', 0.02194700488596019),\n",
       " ('dev_y2_8', 0.02102348579230677),\n",
       " ('roll_10_V_dev_y1_9', 0.01901107815892614),\n",
       " ('roll_5_dev_y1_9', 0.0178169335891656),\n",
       " ('dev_y1_7', 0.01618648689624056),\n",
       " ('roll_5_dev_y2_8', 0.015959012751671012),\n",
       " ('roll_5_V_dev_y1_9', 0.015517344937291042),\n",
       " ('roll_5_dev_y2_7', 0.014738020646267473),\n",
       " ('roll_10_V_dev_y2_9', 0.013979163962798975),\n",
       " ('V_dev_y1_9', 0.013906156377516639),\n",
       " ('dev_y2_6', 0.01389051844771998),\n",
       " ('roll_10_dev_y1_9', 0.013628050131712444),\n",
       " ('A_dev_y1_9', 0.0134236367632522),\n",
       " ('roll_10_dev_y2_9', 0.013173435723498994),\n",
       " ('roll_5_dev_y1_8', 0.012371850958306962),\n",
       " ('roll_10_V_dev_y1_8', 0.011555934069524322)]"
      ]
     },
     "execution_count": 32,
     "metadata": {},
     "output_type": "execute_result"
    }
   ],
   "source": [
    "features = sorted( features.items(), key=lambda pair: pair[1], reverse=True )[:20]\n",
    "features"
   ]
  },
  {
   "cell_type": "markdown",
   "metadata": {},
   "source": [
    "#### Mean Decrease Impurity"
   ]
  },
  {
   "cell_type": "code",
   "execution_count": 33,
   "metadata": {},
   "outputs": [
    {
     "data": {
      "image/png": "[encoded data removed]",
      "text/plain": [
       "<Figure size 2880x360 with 1 Axes>"
      ]
     },
     "metadata": {
      "needs_background": "light"
     },
     "output_type": "display_data"
    }
   ],
   "source": [
    "\n",
    "forest_importances = pd.Series(rf_clf.feature_importances_, index=X_train.columns)\n",
    "\n",
    "fig, ax = plt.subplots(figsize=(40, 5))\n",
    "std = np.std([tree.feature_importances_ for tree in rf_clf.estimators_], axis=0)\n",
    "forest_importances.plot.bar(yerr=std, ax=ax)\n",
    "ax.set_title(\"Feature importances using MDI\")\n",
    "ax.set_ylabel(\"Mean decrease in impurity\", )\n",
    "fig.tight_layout()"
   ]
  },
  {
   "cell_type": "code",
   "execution_count": null,
   "metadata": {},
   "outputs": [],
   "source": []
  }
 ],
 "metadata": {
  "kernelspec": {
   "display_name": "Python 3",
   "language": "python",
   "name": "python3"
  },
  "language_info": {
   "codemirror_mode": {
    "name": "ipython",
    "version": 3
   },
   "file_extension": ".py",
   "mimetype": "text/x-python",
   "name": "python",
   "nbconvert_exporter": "python",
   "pygments_lexer": "ipython3",
   "version": "3.9.12"
  }
 },
 "nbformat": 4,
 "nbformat_minor": 2
}
