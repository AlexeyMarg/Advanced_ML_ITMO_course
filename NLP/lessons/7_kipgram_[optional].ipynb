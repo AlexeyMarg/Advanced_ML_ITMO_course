{
  "nbformat": 4,
  "nbformat_minor": 0,
  "metadata": {
    "colab": {
      "provenance": []
    },
    "kernelspec": {
      "name": "python3",
      "display_name": "Python 3"
    },
    "language_info": {
      "name": "python"
    },
    "accelerator": "GPU",
    "gpuClass": "standard"
  },
  "cells": [
    {
      "cell_type": "markdown",
      "source": [
        "### Pytorch SkipGram"
      ],
      "metadata": {
        "id": "k-wyh8jLr3Fr"
      }
    },
    {
      "cell_type": "code",
      "source": [
        "!pip install torchdata"
      ],
      "metadata": {
        "id": "NkkQHfvhyWOc"
      },
      "execution_count": null,
      "outputs": []
    },
    {
      "cell_type": "code",
      "source": [
        "!pip install -U torchtext"
      ],
      "metadata": {
        "id": "j_Nk6LNXs3Ju"
      },
      "execution_count": null,
      "outputs": []
    },
    {
      "cell_type": "code",
      "source": [
        "!pip install portalocker"
      ],
      "metadata": {
        "id": "fDOMfsoYtFb5"
      },
      "execution_count": null,
      "outputs": []
    },
    {
      "cell_type": "code",
      "source": [
        "import torch\n",
        "import torch.nn as nn\n",
        "from torch.utils.data import Dataset, DataLoader\n",
        "\n",
        "from torchtext.data.utils import get_tokenizer\n",
        "from torchtext.vocab import build_vocab_from_iterator, vocab\n",
        "from torchtext.datasets import WikiText2\n",
        "\n",
        "import numpy as np"
      ],
      "metadata": {
        "id": "Rrp9_jBqWB6T"
      },
      "execution_count": null,
      "outputs": []
    },
    {
      "cell_type": "code",
      "source": [
        "WINDOW_SIZE = 5\n",
        "BATCH_SIZE = 64\n",
        "EMB_DIM = 128\n",
        "EPOCHS = 4"
      ],
      "metadata": {
        "id": "HwL5oNuouJpd"
      },
      "execution_count": null,
      "outputs": []
    },
    {
      "cell_type": "code",
      "source": [
        "if torch.cuda.is_available():\n",
        "    device = torch.device(\"cuda\") \n",
        "else:\n",
        "  device = torch.device(\"cpu\") "
      ],
      "metadata": {
        "id": "lP0TtK6pu7ay"
      },
      "execution_count": null,
      "outputs": []
    },
    {
      "cell_type": "code",
      "source": [
        "!wget https://s3.amazonaws.com/fast-ai-nlp/wikitext-2.tgz -O wikitext-2.tar.gz\n",
        "!tar -xvzf wikitext-2.tar.gz"
      ],
      "metadata": {
        "colab": {
          "base_uri": "https://localhost:8080/"
        },
        "id": "hZVsPPD6wOL7",
        "outputId": "dc639dc0-b81f-4273-db10-c4253a842e00"
      },
      "execution_count": null,
      "outputs": [
        {
          "output_type": "stream",
          "name": "stdout",
          "text": [
            "--2023-04-14 21:14:32--  https://s3.amazonaws.com/fast-ai-nlp/wikitext-2.tgz\n",
            "Resolving s3.amazonaws.com (s3.amazonaws.com)... 54.231.132.80, 3.5.17.145, 52.217.91.166, ...\n",
            "Connecting to s3.amazonaws.com (s3.amazonaws.com)|54.231.132.80|:443... connected.\n",
            "HTTP request sent, awaiting response... 200 OK\n",
            "Length: 4070055 (3.9M) [application/x-tar]\n",
            "Saving to: ‘wikitext-2.tar.gz’\n",
            "\n",
            "wikitext-2.tar.gz   100%[===================>]   3.88M  2.20MB/s    in 1.8s    \n",
            "\n",
            "2023-04-14 21:14:34 (2.20 MB/s) - ‘wikitext-2.tar.gz’ saved [4070055/4070055]\n",
            "\n",
            "wikitext-2/\n",
            "wikitext-2/train.csv\n",
            "wikitext-2/test.csv\n"
          ]
        }
      ]
    },
    {
      "cell_type": "code",
      "source": [
        "def load_data(filepath):\n",
        "    with open(filepath) as f:\n",
        "      return f.readlines()"
      ],
      "metadata": {
        "id": "CldDKoACxXTs"
      },
      "execution_count": null,
      "outputs": []
    },
    {
      "cell_type": "code",
      "source": [
        "train = load_data(\"wikitext-2/train.csv\")\n",
        "test = load_data(\"wikitext-2/test.csv\")\n",
        "data = train + test"
      ],
      "metadata": {
        "id": "S_TpDY1_xkev"
      },
      "execution_count": null,
      "outputs": []
    },
    {
      "cell_type": "code",
      "source": [
        "tokenizer = get_tokenizer(\"basic_english\", language=\"en\")"
      ],
      "metadata": {
        "id": "GSP92oeztJIc"
      },
      "execution_count": null,
      "outputs": []
    },
    {
      "cell_type": "code",
      "source": [
        "def yield_tokens(data_obj):\n",
        "    for text in data_obj:\n",
        "        yield tokenizer(text)\n",
        "\n",
        "vocab = build_vocab_from_iterator(yield_tokens(data), specials=[\"<unk>\"], min_freq=20)\n",
        "vocab.set_default_index(vocab[\"<unk>\"])"
      ],
      "metadata": {
        "id": "3vQXOLDitSoI"
      },
      "execution_count": null,
      "outputs": []
    },
    {
      "cell_type": "code",
      "source": [
        "len(vocab)"
      ],
      "metadata": {
        "colab": {
          "base_uri": "https://localhost:8080/"
        },
        "id": "JsUugBUByDH3",
        "outputId": "4e7c5397-042a-456b-cc8b-68abd9a32dac"
      },
      "execution_count": null,
      "outputs": [
        {
          "output_type": "execute_result",
          "data": {
            "text/plain": [
              "8627"
            ]
          },
          "metadata": {},
          "execution_count": 63
        }
      ]
    },
    {
      "cell_type": "code",
      "source": [
        "vocab['asdasdasd']"
      ],
      "metadata": {
        "colab": {
          "base_uri": "https://localhost:8080/"
        },
        "id": "9RByqqqdzgdE",
        "outputId": "1a7890e4-8909-4bd3-de7b-e97a27589b88"
      },
      "execution_count": null,
      "outputs": [
        {
          "output_type": "execute_result",
          "data": {
            "text/plain": [
              "0"
            ]
          },
          "metadata": {},
          "execution_count": 64
        }
      ]
    },
    {
      "cell_type": "code",
      "source": [
        "text_pipeline = lambda x: vocab(tokenizer(x))"
      ],
      "metadata": {
        "id": "EaN1Nhgftx5H"
      },
      "execution_count": null,
      "outputs": []
    },
    {
      "cell_type": "code",
      "source": [
        "def build_contexts(row, window_size=3):\n",
        "    contexts = []\n",
        "    for i in range(len(row)):\n",
        "      central_word = row[i]\n",
        "      context = [\n",
        "          row[i + delta] for delta in range(-window_size, window_size + 1) \n",
        "          if delta != 0 and i + delta >= 0 and i + delta < len(row)\n",
        "      ]\n",
        "\n",
        "      for c_w in context:\n",
        "        contexts.append((central_word, c_w)) \n",
        "    return contexts"
      ],
      "metadata": {
        "id": "PZfDc-7Pu015"
      },
      "execution_count": null,
      "outputs": []
    },
    {
      "cell_type": "code",
      "source": [
        "class Word2VecDataset(Dataset):\n",
        "    def __init__(self, data, vocab, wsize=3):\n",
        "        self.vocab_size = len(vocab)\n",
        "        self.data = [text_pipeline(item) for item in data]\n",
        "        self.data = [item for text in self.data for item in text]\n",
        "        self.data = build_contexts(self.data, window_size=wsize)\n",
        "\n",
        "    def __len__(self):\n",
        "        return len(self.data)\n",
        "\n",
        "    def __getitem__(self, idx):\n",
        "        return self.data[idx]"
      ],
      "metadata": {
        "id": "NVNMh-btt9RV"
      },
      "execution_count": null,
      "outputs": []
    },
    {
      "cell_type": "code",
      "source": [
        "dataset = Word2VecDataset(data, vocab)\n",
        "train_dataloader =  DataLoader(dataset, batch_size=BATCH_SIZE, shuffle=False)"
      ],
      "metadata": {
        "id": "c0IFzWJKtv4k"
      },
      "execution_count": null,
      "outputs": []
    },
    {
      "cell_type": "code",
      "source": [
        "central_word, context = dataset[0]\n",
        "central_word, context "
      ],
      "metadata": {
        "colab": {
          "base_uri": "https://localhost:8080/"
        },
        "id": "Ubic5ki32bof",
        "outputId": "3a305161-2e4e-4e9d-b2a6-055d10cc14a5"
      },
      "execution_count": null,
      "outputs": [
        {
          "output_type": "execute_result",
          "data": {
            "text/plain": [
              "(9, 435)"
            ]
          },
          "metadata": {},
          "execution_count": 69
        }
      ]
    },
    {
      "cell_type": "code",
      "source": [
        "class SkipGram_Model(nn.Module):\n",
        "    def __init__(self, vocab_size: int):\n",
        "        super(SkipGram_Model, self).__init__()\n",
        "        self.embeddings = nn.Embedding(\n",
        "            num_embeddings=vocab_size,\n",
        "            embedding_dim=EMB_DIM,\n",
        "            max_norm=1,\n",
        "        )\n",
        "        self.linear = nn.Linear(\n",
        "            in_features=EMB_DIM,\n",
        "            out_features=vocab_size,\n",
        "        )\n",
        "\n",
        "    def forward(self, inputs_):\n",
        "        x = self.embeddings(inputs_)\n",
        "        x = self.linear(x)\n",
        "        return x"
      ],
      "metadata": {
        "id": "BkN3VOShvsoW"
      },
      "execution_count": null,
      "outputs": []
    },
    {
      "cell_type": "code",
      "source": [
        "vocab_size = len(vocab)\n",
        "model = SkipGram_Model(vocab_size).to(device)"
      ],
      "metadata": {
        "id": "feiqkWxgw91Q"
      },
      "execution_count": null,
      "outputs": []
    },
    {
      "cell_type": "code",
      "source": [
        "criterion = torch.nn.CrossEntropyLoss()\n",
        "optimizer = torch.optim.SGD(model.parameters(), lr=0.03)"
      ],
      "metadata": {
        "id": "n_s6nEdTw8as"
      },
      "execution_count": null,
      "outputs": []
    },
    {
      "cell_type": "code",
      "source": [
        "def train_model(dataloader, model, optimizer, criterion):\n",
        "    model.train()\n",
        "    \n",
        "    losses = []\n",
        "    for i, batch_data in enumerate(dataloader, 1):\n",
        "      inputs = batch_data[0].to(device)\n",
        "      labels = batch_data[1].to(device)\n",
        "\n",
        "      optimizer.zero_grad()\n",
        "      outputs = model(inputs)\n",
        "      loss = criterion(outputs, labels)\n",
        "      loss.backward()\n",
        "      optimizer.step()\n",
        "\n",
        "      losses.append(loss.item())\n",
        "\n",
        "    epoch_loss = np.mean(losses)\n",
        "    return epoch_loss"
      ],
      "metadata": {
        "id": "ZMFwTTE1uV_n"
      },
      "execution_count": null,
      "outputs": []
    },
    {
      "cell_type": "code",
      "source": [
        "for epoch in range(EPOCHS):\n",
        "    loss = train_model(train_dataloader, model, optimizer, criterion)\n",
        "    if epoch % 2 == 0:\n",
        "      print(f'Epoch {epoch}: train loss {loss}')\n"
      ],
      "metadata": {
        "colab": {
          "base_uri": "https://localhost:8080/"
        },
        "id": "k7poLNsQuass",
        "outputId": "a919430e-59bb-4e24-b1a8-ccb2a8c40b2c"
      },
      "execution_count": null,
      "outputs": [
        {
          "output_type": "stream",
          "name": "stdout",
          "text": [
            "Epoch 0: train loss 6.262152531981089\n",
            "Epoch 2: train loss 6.070154088096149\n"
          ]
        }
      ]
    },
    {
      "cell_type": "code",
      "source": [
        "embeddings = list(model.parameters())[0]\n",
        "embeddings = embeddings.cpu().detach().numpy()\n",
        "\n",
        "# normalization\n",
        "norms = (embeddings ** 2).sum(axis=1) ** (1 / 2)\n",
        "norms = np.reshape(norms, (len(norms), 1))\n",
        "embeddings_norm = embeddings / norms\n",
        "embeddings_norm.shape"
      ],
      "metadata": {
        "colab": {
          "base_uri": "https://localhost:8080/"
        },
        "id": "sBycwJCD0k2x",
        "outputId": "ac861e5f-3b9c-499c-b9b0-4e4d052264d4"
      },
      "execution_count": null,
      "outputs": [
        {
          "output_type": "execute_result",
          "data": {
            "text/plain": [
              "(8627, 128)"
            ]
          },
          "metadata": {},
          "execution_count": 78
        }
      ]
    },
    {
      "cell_type": "code",
      "source": [
        "def get_top_similar(word, n=10):\n",
        "    word_id = vocab[word]\n",
        "    if word_id == 0:\n",
        "        print(\"Out of vocabulary word\")\n",
        "        return\n",
        "\n",
        "    word_vec = embeddings_norm[word_id]\n",
        "    word_vec = np.reshape(word_vec, (len(word_vec), 1))\n",
        "    dists = np.matmul(embeddings_norm, word_vec).flatten()\n",
        "    top_ids = np.argsort(-dists)[1 : n + 1]\n",
        "\n",
        "    top_dict = {}\n",
        "    for sim_word_id in top_ids:\n",
        "        sim_word = vocab.lookup_token(sim_word_id)\n",
        "        top_dict[sim_word] = dists[sim_word_id]\n",
        "    return top_dict"
      ],
      "metadata": {
        "id": "i_eVIj720qtq"
      },
      "execution_count": null,
      "outputs": []
    },
    {
      "cell_type": "code",
      "source": [
        "get_top_similar('hero')"
      ],
      "metadata": {
        "colab": {
          "base_uri": "https://localhost:8080/"
        },
        "id": "xInWGLGA0qpf",
        "outputId": "92cb634f-543e-4ea8-f4c7-456cc2ca76eb"
      },
      "execution_count": null,
      "outputs": [
        {
          "output_type": "execute_result",
          "data": {
            "text/plain": [
              "{'video': 0.40826625,\n",
              " 'seven': 0.40180534,\n",
              " 'world': 0.3799724,\n",
              " 'during': 0.3766271,\n",
              " 'despite': 0.37006557,\n",
              " 'along': 0.35462686,\n",
              " 'the': 0.3502586,\n",
              " 'fifth': 0.3493992,\n",
              " 'consecutive': 0.34836656,\n",
              " 'recorded': 0.34149763}"
            ]
          },
          "metadata": {},
          "execution_count": 80
        }
      ]
    },
    {
      "cell_type": "code",
      "source": [],
      "metadata": {
        "id": "D-UJ34J5tjSw"
      },
      "execution_count": null,
      "outputs": []
    }
  ]
}